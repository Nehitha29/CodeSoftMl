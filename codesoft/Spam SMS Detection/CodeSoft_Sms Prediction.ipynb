{
 "cells": [
  {
   "cell_type": "code",
   "execution_count": 109,
   "id": "52c4f702",
   "metadata": {},
   "outputs": [],
   "source": [
    "import pandas as pd\n",
    "import numpy as np\n",
    "import matplotlib.pyplot as plt"
   ]
  },
  {
   "cell_type": "code",
   "execution_count": 110,
   "id": "363bb25a",
   "metadata": {},
   "outputs": [],
   "source": [
    "df = pd.read_csv('spam.csv', encoding='latin1')\n",
    "df= df.drop(df.columns[[2,3,4]],axis=1)"
   ]
  },
  {
   "cell_type": "code",
   "execution_count": 111,
   "id": "4cdc1adc",
   "metadata": {},
   "outputs": [],
   "source": [
    "df.rename(columns=\n",
    "         {\"v1\":\"classification\",\n",
    "         \"v2\":\"SMS\"},\n",
    "          inplace=True)"
   ]
  },
  {
   "cell_type": "code",
   "execution_count": 112,
   "id": "6aa3e3f8",
   "metadata": {},
   "outputs": [
    {
     "data": {
      "text/html": [
       "<div>\n",
       "<style scoped>\n",
       "    .dataframe tbody tr th:only-of-type {\n",
       "        vertical-align: middle;\n",
       "    }\n",
       "\n",
       "    .dataframe tbody tr th {\n",
       "        vertical-align: top;\n",
       "    }\n",
       "\n",
       "    .dataframe thead th {\n",
       "        text-align: right;\n",
       "    }\n",
       "</style>\n",
       "<table border=\"1\" class=\"dataframe\">\n",
       "  <thead>\n",
       "    <tr style=\"text-align: right;\">\n",
       "      <th></th>\n",
       "      <th>classification</th>\n",
       "      <th>SMS</th>\n",
       "    </tr>\n",
       "  </thead>\n",
       "  <tbody>\n",
       "    <tr>\n",
       "      <th>0</th>\n",
       "      <td>ham</td>\n",
       "      <td>Go until jurong point, crazy.. Available only ...</td>\n",
       "    </tr>\n",
       "    <tr>\n",
       "      <th>1</th>\n",
       "      <td>ham</td>\n",
       "      <td>Ok lar... Joking wif u oni...</td>\n",
       "    </tr>\n",
       "    <tr>\n",
       "      <th>2</th>\n",
       "      <td>spam</td>\n",
       "      <td>Free entry in 2 a wkly comp to win FA Cup fina...</td>\n",
       "    </tr>\n",
       "    <tr>\n",
       "      <th>3</th>\n",
       "      <td>ham</td>\n",
       "      <td>U dun say so early hor... U c already then say...</td>\n",
       "    </tr>\n",
       "    <tr>\n",
       "      <th>4</th>\n",
       "      <td>ham</td>\n",
       "      <td>Nah I don't think he goes to usf, he lives aro...</td>\n",
       "    </tr>\n",
       "    <tr>\n",
       "      <th>...</th>\n",
       "      <td>...</td>\n",
       "      <td>...</td>\n",
       "    </tr>\n",
       "    <tr>\n",
       "      <th>5567</th>\n",
       "      <td>spam</td>\n",
       "      <td>This is the 2nd time we have tried 2 contact u...</td>\n",
       "    </tr>\n",
       "    <tr>\n",
       "      <th>5568</th>\n",
       "      <td>ham</td>\n",
       "      <td>Will Ì_ b going to esplanade fr home?</td>\n",
       "    </tr>\n",
       "    <tr>\n",
       "      <th>5569</th>\n",
       "      <td>ham</td>\n",
       "      <td>Pity, * was in mood for that. So...any other s...</td>\n",
       "    </tr>\n",
       "    <tr>\n",
       "      <th>5570</th>\n",
       "      <td>ham</td>\n",
       "      <td>The guy did some bitching but I acted like i'd...</td>\n",
       "    </tr>\n",
       "    <tr>\n",
       "      <th>5571</th>\n",
       "      <td>ham</td>\n",
       "      <td>Rofl. Its true to its name</td>\n",
       "    </tr>\n",
       "  </tbody>\n",
       "</table>\n",
       "<p>5572 rows × 2 columns</p>\n",
       "</div>"
      ],
      "text/plain": [
       "     classification                                                SMS\n",
       "0               ham  Go until jurong point, crazy.. Available only ...\n",
       "1               ham                      Ok lar... Joking wif u oni...\n",
       "2              spam  Free entry in 2 a wkly comp to win FA Cup fina...\n",
       "3               ham  U dun say so early hor... U c already then say...\n",
       "4               ham  Nah I don't think he goes to usf, he lives aro...\n",
       "...             ...                                                ...\n",
       "5567           spam  This is the 2nd time we have tried 2 contact u...\n",
       "5568            ham              Will Ì_ b going to esplanade fr home?\n",
       "5569            ham  Pity, * was in mood for that. So...any other s...\n",
       "5570            ham  The guy did some bitching but I acted like i'd...\n",
       "5571            ham                         Rofl. Its true to its name\n",
       "\n",
       "[5572 rows x 2 columns]"
      ]
     },
     "execution_count": 112,
     "metadata": {},
     "output_type": "execute_result"
    }
   ],
   "source": [
    "df"
   ]
  },
  {
   "cell_type": "code",
   "execution_count": 113,
   "id": "be7cc501",
   "metadata": {},
   "outputs": [
    {
     "data": {
      "text/plain": [
       "classification\n",
       "ham     4825\n",
       "spam     747\n",
       "Name: count, dtype: int64"
      ]
     },
     "execution_count": 113,
     "metadata": {},
     "output_type": "execute_result"
    }
   ],
   "source": [
    "graph= df.classification.value_counts()\n",
    "graph"
   ]
  },
  {
   "cell_type": "code",
   "execution_count": 114,
   "id": "4b51486a",
   "metadata": {},
   "outputs": [
    {
     "data": {
      "image/png": "[encoded data removed]",
      "text/plain": [
       "<Figure size 640x480 with 1 Axes>"
      ]
     },
     "metadata": {},
     "output_type": "display_data"
    }
   ],
   "source": [
    "graph.plot(kind='bar', color=['blue', 'red'])\n",
    "plt.xlabel('Message Type')\n",
    "plt.ylabel('Count')\n",
    "plt.title('Number of Ham and Spam Messages')\n",
    "plt.xticks(rotation=0)\n",
    "plt.show()"
   ]
  },
  {
   "cell_type": "code",
   "execution_count": 115,
   "id": "f5e2e749",
   "metadata": {},
   "outputs": [
    {
     "data": {
      "text/plain": [
       "(4825, 2)"
      ]
     },
     "execution_count": 115,
     "metadata": {},
     "output_type": "execute_result"
    }
   ],
   "source": [
    "df1 = df[df[\"classification\"] == \"ham\"]\n",
    "df0 = df[df[\"classification\"] == \"spam\"]\n",
    "df1.shape"
   ]
  },
  {
   "cell_type": "code",
   "execution_count": 116,
   "id": "b510a7d7",
   "metadata": {},
   "outputs": [],
   "source": [
    "df0 = df0.sample(df1.shape[0], replace=True)\n",
    "df1 = pd.concat([df1, df0], axis=0)\n",
    "pf= df1.classification.value_counts()"
   ]
  },
  {
   "cell_type": "code",
   "execution_count": 117,
   "id": "862834ce",
   "metadata": {},
   "outputs": [
    {
     "data": {
      "image/png": "[encoded data removed]",
      "text/plain": [
       "<Figure size 640x480 with 1 Axes>"
      ]
     },
     "metadata": {},
     "output_type": "display_data"
    }
   ],
   "source": [
    "pf.plot(kind='bar', color=['blue', 'red'])\n",
    "plt.xlabel('Message Type')\n",
    "plt.ylabel('Count')\n",
    "plt.title('Number of Ham and Spam Messages')\n",
    "plt.xticks(rotation=0)\n",
    "plt.show()"
   ]
  },
  {
   "cell_type": "code",
   "execution_count": 118,
   "id": "719f3796",
   "metadata": {},
   "outputs": [
    {
     "data": {
      "text/html": [
       "<div>\n",
       "<style scoped>\n",
       "    .dataframe tbody tr th:only-of-type {\n",
       "        vertical-align: middle;\n",
       "    }\n",
       "\n",
       "    .dataframe tbody tr th {\n",
       "        vertical-align: top;\n",
       "    }\n",
       "\n",
       "    .dataframe thead th {\n",
       "        text-align: right;\n",
       "    }\n",
       "</style>\n",
       "<table border=\"1\" class=\"dataframe\">\n",
       "  <thead>\n",
       "    <tr style=\"text-align: right;\">\n",
       "      <th></th>\n",
       "      <th>classification</th>\n",
       "      <th>SMS</th>\n",
       "    </tr>\n",
       "  </thead>\n",
       "  <tbody>\n",
       "    <tr>\n",
       "      <th>0</th>\n",
       "      <td>ham</td>\n",
       "      <td>Go until jurong point, crazy.. Available only ...</td>\n",
       "    </tr>\n",
       "    <tr>\n",
       "      <th>1</th>\n",
       "      <td>ham</td>\n",
       "      <td>Ok lar... Joking wif u oni...</td>\n",
       "    </tr>\n",
       "    <tr>\n",
       "      <th>3</th>\n",
       "      <td>ham</td>\n",
       "      <td>U dun say so early hor... U c already then say...</td>\n",
       "    </tr>\n",
       "    <tr>\n",
       "      <th>4</th>\n",
       "      <td>ham</td>\n",
       "      <td>Nah I don't think he goes to usf, he lives aro...</td>\n",
       "    </tr>\n",
       "    <tr>\n",
       "      <th>6</th>\n",
       "      <td>ham</td>\n",
       "      <td>Even my brother is not like to speak with me. ...</td>\n",
       "    </tr>\n",
       "    <tr>\n",
       "      <th>...</th>\n",
       "      <td>...</td>\n",
       "      <td>...</td>\n",
       "    </tr>\n",
       "    <tr>\n",
       "      <th>2821</th>\n",
       "      <td>spam</td>\n",
       "      <td>ROMCAPspam Everyone around should be respondin...</td>\n",
       "    </tr>\n",
       "    <tr>\n",
       "      <th>4014</th>\n",
       "      <td>spam</td>\n",
       "      <td>You will be receiving this week's Triple Echo ...</td>\n",
       "    </tr>\n",
       "    <tr>\n",
       "      <th>2692</th>\n",
       "      <td>spam</td>\n",
       "      <td>Urgent Urgent! We have 800 FREE flights to Eur...</td>\n",
       "    </tr>\n",
       "    <tr>\n",
       "      <th>4211</th>\n",
       "      <td>spam</td>\n",
       "      <td>Missed call alert. These numbers called but le...</td>\n",
       "    </tr>\n",
       "    <tr>\n",
       "      <th>1914</th>\n",
       "      <td>spam</td>\n",
       "      <td>New TEXTBUDDY Chat 2 horny guys in ur area 4 j...</td>\n",
       "    </tr>\n",
       "  </tbody>\n",
       "</table>\n",
       "<p>9650 rows × 2 columns</p>\n",
       "</div>"
      ],
      "text/plain": [
       "     classification                                                SMS\n",
       "0               ham  Go until jurong point, crazy.. Available only ...\n",
       "1               ham                      Ok lar... Joking wif u oni...\n",
       "3               ham  U dun say so early hor... U c already then say...\n",
       "4               ham  Nah I don't think he goes to usf, he lives aro...\n",
       "6               ham  Even my brother is not like to speak with me. ...\n",
       "...             ...                                                ...\n",
       "2821           spam  ROMCAPspam Everyone around should be respondin...\n",
       "4014           spam  You will be receiving this week's Triple Echo ...\n",
       "2692           spam  Urgent Urgent! We have 800 FREE flights to Eur...\n",
       "4211           spam  Missed call alert. These numbers called but le...\n",
       "1914           spam  New TEXTBUDDY Chat 2 horny guys in ur area 4 j...\n",
       "\n",
       "[9650 rows x 2 columns]"
      ]
     },
     "execution_count": 118,
     "metadata": {},
     "output_type": "execute_result"
    }
   ],
   "source": [
    "df1"
   ]
  },
  {
   "cell_type": "code",
   "execution_count": 29,
   "id": "18290d83",
   "metadata": {},
   "outputs": [
    {
     "name": "stderr",
     "output_type": "stream",
     "text": [
      "[nltk_data] Downloading package stopwords to\n",
      "[nltk_data]     C:\\Users\\nehit\\AppData\\Roaming\\nltk_data...\n",
      "[nltk_data]   Package stopwords is already up-to-date!\n"
     ]
    },
    {
     "data": {
      "text/plain": [
       "True"
      ]
     },
     "execution_count": 29,
     "metadata": {},
     "output_type": "execute_result"
    }
   ],
   "source": [
    "import nltk\n",
    "from nltk.corpus import stopwords\n",
    "\n",
    "# Download stopwords\n",
    "nltk.download('stopwords')"
   ]
  },
  {
   "cell_type": "code",
   "execution_count": 30,
   "id": "8049d7e2",
   "metadata": {},
   "outputs": [],
   "source": [
    "import string\n",
    "def preprocess_text(text):\n",
    "    # Convert text to lowercase\n",
    "    text = text.lower()\n",
    "    # Remove punctuation\n",
    "    text = text.translate(str.maketrans('', '', string.punctuation))\n",
    "    # Remove stopwords\n",
    "    stop_words = set(stopwords.words('english'))\n",
    "    text = text.split()\n",
    "    text = [word for word in text if word not in stop_words]\n",
    "    text = ' '.join(text)\n",
    "    return text"
   ]
  },
  {
   "cell_type": "code",
   "execution_count": 57,
   "id": "48adbab4",
   "metadata": {},
   "outputs": [],
   "source": [
    "df1['SMS'] = df1['SMS'].apply(preprocess_text)"
   ]
  },
  {
   "cell_type": "code",
   "execution_count": 58,
   "id": "90ff26b8",
   "metadata": {},
   "outputs": [
    {
     "data": {
      "text/plain": [
       "0       go jurong point crazy available bugis n great ...\n",
       "1                                 ok lar joking wif u oni\n",
       "3                     u dun say early hor u c already say\n",
       "4             nah dont think goes usf lives around though\n",
       "6          even brother like speak treat like aids patent\n",
       "                              ...                        \n",
       "4448    urgent ur awarded complimentary trip eurodisin...\n",
       "517     credits topped httpwwwbubbletextcom renewal pi...\n",
       "823     25p 4 alfie moons children need song ur mob te...\n",
       "716     449071512431 urgent 2nd attempt contact uu å£1...\n",
       "1072    dear uve invited xchat final attempt contact u...\n",
       "Name: SMS, Length: 9650, dtype: object"
      ]
     },
     "execution_count": 58,
     "metadata": {},
     "output_type": "execute_result"
    }
   ],
   "source": [
    "df1['SMS']"
   ]
  },
  {
   "cell_type": "code",
   "execution_count": 54,
   "id": "782eb066",
   "metadata": {},
   "outputs": [
    {
     "data": {
      "text/plain": [
       "classification\n",
       "1    4825\n",
       "0    4825\n",
       "Name: count, dtype: int64"
      ]
     },
     "execution_count": 54,
     "metadata": {},
     "output_type": "execute_result"
    }
   ],
   "source": [
    "df1['classification'] = df1[\"classification\"].map({\n",
    "    \"ham\":1,\n",
    "    \"spam\":0\n",
    "})\n",
    "df1['classification'].value_counts()"
   ]
  },
  {
   "cell_type": "code",
   "execution_count": 61,
   "id": "1d93bf97",
   "metadata": {},
   "outputs": [],
   "source": [
    "from sklearn.feature_extraction.text import TfidfVectorizer\n",
    "from sklearn.model_selection import train_test_split\n",
    "X_train, X_test, y_train, y_test = train_test_split(df1['SMS'], df1['classification'], test_size=0.2, random_state=42)\n",
    "\n",
    "# Vectorizing text\n",
    "\n",
    "\n",
    "tf = TfidfVectorizer()\n",
    "x_train = tf.fit_transform(X_train)\n",
    "x_test = tf.transform(X_test)"
   ]
  },
  {
   "cell_type": "code",
   "execution_count": 65,
   "id": "88321e96",
   "metadata": {},
   "outputs": [
    {
     "data": {
      "text/plain": [
       "((7720, 8491),\n",
       " (1930, 8491),\n",
       " classification\n",
       " 0    3880\n",
       " 1    3840\n",
       " Name: count, dtype: int64)"
      ]
     },
     "execution_count": 65,
     "metadata": {},
     "output_type": "execute_result"
    }
   ],
   "source": [
    "x_train.shape, x_test.shape, y_train.value_counts()"
   ]
  },
  {
   "cell_type": "code",
   "execution_count": 64,
   "id": "974fa707",
   "metadata": {},
   "outputs": [
    {
     "data": {
      "text/plain": [
       "3942    1\n",
       "158     0\n",
       "1651    1\n",
       "2108    0\n",
       "3826    0\n",
       "Name: classification, dtype: int64"
      ]
     },
     "execution_count": 64,
     "metadata": {},
     "output_type": "execute_result"
    }
   ],
   "source": [
    "y_train[:5]"
   ]
  },
  {
   "cell_type": "code",
   "execution_count": 66,
   "id": "4033e30b",
   "metadata": {},
   "outputs": [],
   "source": [
    "from sklearn.ensemble import RandomForestClassifier\n",
    "from sklearn.tree import DecisionTreeClassifier\n",
    "from sklearn.naive_bayes import MultinomialNB\n",
    "from sklearn.svm import SVC\n",
    "from sklearn.linear_model import LogisticRegression\n",
    "from sklearn.metrics import precision_score, recall_score, f1_score,accuracy_score\n",
    "ran = RandomForestClassifier(n_estimators=100)\n",
    "dec = DecisionTreeClassifier()\n",
    "\n",
    "models = {\n",
    "    \"RandomForest\" : ran,\n",
    "    \"DesisionTree\": dec,\n",
    "    \"LogisticRegression\" : LogisticRegression(max_iter=100),\n",
    "    \"Support Vector Machine\": SVC(gamma=\"auto\", kernel=\"rbf\"),\n",
    "    \"Naive Bayes\": MultinomialNB()\n",
    "}"
   ]
  },
  {
   "cell_type": "code",
   "execution_count": 74,
   "id": "bfa35027",
   "metadata": {},
   "outputs": [
    {
     "data": {
      "text/html": [
       "<div>\n",
       "<style scoped>\n",
       "    .dataframe tbody tr th:only-of-type {\n",
       "        vertical-align: middle;\n",
       "    }\n",
       "\n",
       "    .dataframe tbody tr th {\n",
       "        vertical-align: top;\n",
       "    }\n",
       "\n",
       "    .dataframe thead th {\n",
       "        text-align: right;\n",
       "    }\n",
       "</style>\n",
       "<table border=\"1\" class=\"dataframe\">\n",
       "  <thead>\n",
       "    <tr style=\"text-align: right;\">\n",
       "      <th></th>\n",
       "      <th>Model_name</th>\n",
       "      <th>Test Accuracy</th>\n",
       "      <th>Train Acurracy</th>\n",
       "      <th>precision</th>\n",
       "      <th>recall</th>\n",
       "      <th>f1_score</th>\n",
       "    </tr>\n",
       "  </thead>\n",
       "  <tbody>\n",
       "    <tr>\n",
       "      <th>0</th>\n",
       "      <td>RandomForest</td>\n",
       "      <td>0.999482</td>\n",
       "      <td>1.000000</td>\n",
       "      <td>0.999482</td>\n",
       "      <td>0.999482</td>\n",
       "      <td>0.999482</td>\n",
       "    </tr>\n",
       "    <tr>\n",
       "      <th>1</th>\n",
       "      <td>DesisionTree</td>\n",
       "      <td>0.979793</td>\n",
       "      <td>1.000000</td>\n",
       "      <td>0.980594</td>\n",
       "      <td>0.979793</td>\n",
       "      <td>0.979793</td>\n",
       "    </tr>\n",
       "    <tr>\n",
       "      <th>2</th>\n",
       "      <td>LogisticRegression</td>\n",
       "      <td>0.988601</td>\n",
       "      <td>0.994041</td>\n",
       "      <td>0.988633</td>\n",
       "      <td>0.988601</td>\n",
       "      <td>0.988600</td>\n",
       "    </tr>\n",
       "    <tr>\n",
       "      <th>3</th>\n",
       "      <td>Support Vector Machine</td>\n",
       "      <td>0.489637</td>\n",
       "      <td>0.502591</td>\n",
       "      <td>0.239745</td>\n",
       "      <td>0.489637</td>\n",
       "      <td>0.321883</td>\n",
       "    </tr>\n",
       "    <tr>\n",
       "      <th>4</th>\n",
       "      <td>Naive Bayes</td>\n",
       "      <td>0.975130</td>\n",
       "      <td>0.987824</td>\n",
       "      <td>0.975151</td>\n",
       "      <td>0.975130</td>\n",
       "      <td>0.975131</td>\n",
       "    </tr>\n",
       "  </tbody>\n",
       "</table>\n",
       "</div>"
      ],
      "text/plain": [
       "               Model_name  Test Accuracy  Train Acurracy  precision    recall  \\\n",
       "0            RandomForest       0.999482        1.000000   0.999482  0.999482   \n",
       "1            DesisionTree       0.979793        1.000000   0.980594  0.979793   \n",
       "2      LogisticRegression       0.988601        0.994041   0.988633  0.988601   \n",
       "3  Support Vector Machine       0.489637        0.502591   0.239745  0.489637   \n",
       "4             Naive Bayes       0.975130        0.987824   0.975151  0.975130   \n",
       "\n",
       "   f1_score  \n",
       "0  0.999482  \n",
       "1  0.979793  \n",
       "2  0.988600  \n",
       "3  0.321883  \n",
       "4  0.975131  "
      ]
     },
     "execution_count": 74,
     "metadata": {},
     "output_type": "execute_result"
    }
   ],
   "source": [
    "scores = []\n",
    "for name, var in models.items():\n",
    "    var.fit(x_train, y_train)\n",
    "    y_predict = var.predict(x_test)\n",
    "    scores.append({\n",
    "        \"Model_name\": name,\n",
    "        \"Test Accuracy\": var.score(x_test, y_test), \n",
    "        \"Train Acurracy\":var.score(x_train,y_train),\n",
    "        \"precision\" : precision_score(y_test, y_predict,average='weighted',zero_division=0),\n",
    "        \"recall\" : recall_score(y_test, y_predict,average='weighted',zero_division=0),\n",
    "        \"f1_score\" : f1_score(y_test, y_predict,average='weighted',zero_division=0)\n",
    "        \n",
    "    })\n",
    "df1 = pd.DataFrame(scores)\n",
    "df1"
   ]
  },
  {
   "cell_type": "code",
   "execution_count": 68,
   "id": "5f6a234c",
   "metadata": {},
   "outputs": [
    {
     "data": {
      "text/plain": [
       "(array([1, 1, 1, 1, 0], dtype=int64), array([1, 1, 1, 1, 0], dtype=int64))"
      ]
     },
     "execution_count": 68,
     "metadata": {},
     "output_type": "execute_result"
    }
   ],
   "source": [
    "ran.fit(x_train, y_train)\n",
    "y_pred = ran.predict(x_test)\n",
    "y_test = np.array(y_test)\n",
    "y_predict[:5], y_test[:5]"
   ]
  },
  {
   "cell_type": "code",
   "execution_count": 69,
   "id": "241302b4",
   "metadata": {},
   "outputs": [
    {
     "name": "stdout",
     "output_type": "stream",
     "text": [
      "              precision    recall  f1-score   support\n",
      "\n",
      "           0       0.97      0.98      0.97       945\n",
      "           1       0.98      0.97      0.98       985\n",
      "\n",
      "    accuracy                           0.98      1930\n",
      "   macro avg       0.98      0.98      0.98      1930\n",
      "weighted avg       0.98      0.98      0.98      1930\n",
      "\n"
     ]
    }
   ],
   "source": [
    "from sklearn.metrics import classification_report\n",
    "\n",
    "print(classification_report(y_test, y_predict))"
   ]
  },
  {
   "cell_type": "code",
   "execution_count": 70,
   "id": "990e3c38",
   "metadata": {},
   "outputs": [
    {
     "data": {
      "text/plain": [
       "array([[945,   0],\n",
       "       [  1, 984]], dtype=int64)"
      ]
     },
     "execution_count": 70,
     "metadata": {},
     "output_type": "execute_result"
    }
   ],
   "source": [
    "from sklearn.metrics import confusion_matrix\n",
    "\n",
    "cm = confusion_matrix(y_test, y_pred)\n",
    "cm"
   ]
  },
  {
   "cell_type": "code",
   "execution_count": 71,
   "id": "5c26dfa8",
   "metadata": {},
   "outputs": [
    {
     "data": {
      "image/png": "[encoded data removed]",
      "text/plain": [
       "<Figure size 700x700 with 2 Axes>"
      ]
     },
     "metadata": {},
     "output_type": "display_data"
    }
   ],
   "source": [
    "#Visualising the condfusion matrix in heat map\n",
    "%matplotlib inline\n",
    "import matplotlib.pyplot as plt\n",
    "import seaborn as sn\n",
    "plt.figure(figsize=(7,7))\n",
    "ax= sn.heatmap(cm, annot=True)\n",
    "plt.xlabel(\"Predicted\")\n",
    "plt.ylabel(\"Truth\")\n",
    "ax.xaxis.set_ticklabels([\"spam\", \"ham\"])\n",
    "ax.yaxis.set_ticklabels([\"spam\", \"ham\"])\n",
    "ax.xaxis.tick_top()"
   ]
  },
  {
   "cell_type": "code",
   "execution_count": null,
   "id": "38ad2f67",
   "metadata": {},
   "outputs": [],
   "source": []
  }
 ],
 "metadata": {
  "kernelspec": {
   "display_name": "Python 3 (ipykernel)",
   "language": "python",
   "name": "python3"
  },
  "language_info": {
   "codemirror_mode": {
    "name": "ipython",
    "version": 3
   },
   "file_extension": ".py",
   "mimetype": "text/x-python",
   "name": "python",
   "nbconvert_exporter": "python",
   "pygments_lexer": "ipython3",
   "version": "3.11.5"
  }
 },
 "nbformat": 4,
 "nbformat_minor": 5
}
